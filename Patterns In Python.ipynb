{
 "cells": [
  {
   "cell_type": "code",
   "execution_count": 11,
   "metadata": {},
   "outputs": [
    {
     "name": "stdout",
     "output_type": "stream",
     "text": [
      "                  * \t\n",
      "                 * * \t\n",
      "                * * * \t\n",
      "               * * * * \t\n",
      "              * * * * * \t\n",
      "             * * * * * * \t\n",
      "            * * * * * * * \t\n",
      "           * * * * * * * * \t\n",
      "          * * * * * * * * * \t\n",
      "         * * * * * * * * * * \t\n"
     ]
    }
   ],
   "source": [
    "#pyramid patterns\n",
    "\n",
    "def patterns(n):\n",
    "    k=2 * n - 2\n",
    "    for i in range(0,n):\n",
    "        for j in range(0,k):\n",
    "            print(end=\" \")\n",
    "        k=k-1\n",
    "        for j in range(0,i+1):\n",
    "            print(\"* \",end=\"\")\n",
    "        print(\"\\t\")\n",
    "patterns(10)"
   ]
  },
  {
   "cell_type": "code",
   "execution_count": 28,
   "metadata": {},
   "outputs": [
    {
     "name": "stdout",
     "output_type": "stream",
     "text": [
      "   * * * * * * \r\n",
      "    * * * * * \r\n",
      "     * * * * \r\n",
      "      * * * \r\n",
      "       * * \r\n",
      "        * \r\n"
     ]
    }
   ],
   "source": [
    "#inverse pyramid\n",
    "\n",
    "def pattern(n):\n",
    "    k = n - 2\n",
    "    for i in range(n,-1,-1):\n",
    "        for j in range(k,0,-1):\n",
    "            print(end=\" \")\n",
    "        k=k + 1\n",
    "        for j in range(0,i + 1):\n",
    "            print(\"* \",end=\"\")\n",
    "        print(\"\\r\")\n",
    "pattern(5)"
   ]
  },
  {
   "cell_type": "code",
   "execution_count": 3,
   "metadata": {},
   "outputs": [
    {
     "name": "stdout",
     "output_type": "stream",
     "text": [
      "* \r\n",
      "* * \r\n",
      "* * * \r\n",
      "* * * * \r\n",
      "* * * * * \r\n",
      "* * * * * * \r\n",
      "* * * * * \r\n",
      "* * * * \r\n",
      "* * * \r\n",
      "* * \r\n",
      "* \r\n"
     ]
    }
   ],
   "source": [
    "#right star pattern\n",
    "\n",
    "def pattern(n):\n",
    "    for i in range(0,n):\n",
    "        for j in range(0,i+1):\n",
    "            print(\"* \", end=\"\")\n",
    "        print(\"\\r\")\n",
    "    for i in range(n,-1,-1):\n",
    "        for j in range(0,i+1):\n",
    "            print(\"* \",end=\"\")\n",
    "        print(\"\\r\")\n",
    "pattern(5)"
   ]
  },
  {
   "cell_type": "code",
   "execution_count": 6,
   "metadata": {},
   "outputs": [
    {
     "name": "stdout",
     "output_type": "stream",
     "text": [
      "                  * \r\n",
      "                * * \r\n",
      "              * * * \r\n",
      "            * * * * \r\n",
      "          * * * * * \r\n",
      "        * * * * * * \r\n",
      "      * * * * * * * \r\n",
      "    * * * * * * * * \r\n",
      "  * * * * * * * * * \r\n",
      "* * * * * * * * * * \r\n",
      "  * * * * * * * * * \r\n",
      "    * * * * * * * * \r\n",
      "      * * * * * * * \r\n",
      "        * * * * * * \r\n",
      "          * * * * * \r\n",
      "            * * * * \r\n",
      "              * * * \r\n",
      "                * * \r\n",
      "                  * \r\n"
     ]
    }
   ],
   "source": [
    "#left start pattern\n",
    "\n",
    "def pattern(n):\n",
    "    k=2*n-2\n",
    "    for i in range(0,n-1):\n",
    "        for j in range(0,k):\n",
    "            print(end=\" \")\n",
    "        k=k-2\n",
    "        for j in range(0,i+1):\n",
    "            print(\"* \",end=\"\")\n",
    "        print(\"\\r\")\n",
    "    k=-1\n",
    "    for i in range(n-1,-1,-1):\n",
    "        for j in range(k,-1,-1):\n",
    "            print(end=\" \")\n",
    "        k=k+2\n",
    "        for j in range(0,i+1):\n",
    "            print(\"* \",end=\"\")\n",
    "        print(\"\\r\")\n",
    "pattern(10)"
   ]
  },
  {
   "cell_type": "code",
   "execution_count": 11,
   "metadata": {},
   "outputs": [
    {
     "name": "stdout",
     "output_type": "stream",
     "text": [
      "   * * * * * * \r\n",
      "    * * * * * \r\n",
      "     * * * * \r\n",
      "      * * * \r\n",
      "       * * \r\n",
      "        * \r\n",
      "        * \t\n",
      "       * * \t\n",
      "      * * * \t\n",
      "     * * * * \t\n",
      "    * * * * * \t\n",
      "   * * * * * * \t\n"
     ]
    }
   ],
   "source": [
    "#hourglass pattern\n",
    "\n",
    "def pattern(n):\n",
    "    k = n - 2\n",
    "    for i in range(n,-1,-1):\n",
    "        for j in range(k,0,-1):\n",
    "            print(end=\" \")\n",
    "        k=k + 1\n",
    "        for j in range(0,i + 1):\n",
    "            print(\"* \",end=\"\")\n",
    "        print(\"\\r\")\n",
    "    k=2 * n - 2\n",
    "    for i in range(0,n+1):\n",
    "        for j in range(0,k):\n",
    "            print(end=\" \")\n",
    "        k=k-1\n",
    "        for j in range(0,i+1):\n",
    "            print(\"* \",end=\"\")\n",
    "        print(\"\\t\")\n",
    "pattern(5)"
   ]
  },
  {
   "cell_type": "code",
   "execution_count": 17,
   "metadata": {},
   "outputs": [
    {
     "name": "stdout",
     "output_type": "stream",
     "text": [
      "* \r\n",
      "* * \r\n",
      "* * * \r\n",
      "* * * * \r\n",
      "* * * * * \r\n"
     ]
    }
   ],
   "source": [
    "#half pyramid pattern\n",
    "\n",
    "def pattern(n):\n",
    "    for i in range(0,n):\n",
    "        for i in range(0,i+1):\n",
    "            print(\"* \",end=\"\")\n",
    "        print(\"\\r\")\n",
    "pattern(5)"
   ]
  },
  {
   "cell_type": "code",
   "execution_count": 18,
   "metadata": {},
   "outputs": [
    {
     "name": "stdout",
     "output_type": "stream",
     "text": [
      "        * \r\n",
      "      * * \r\n",
      "    * * * \r\n",
      "  * * * * \r\n",
      "* * * * * \r\n"
     ]
    }
   ],
   "source": [
    "def pattern(n):\n",
    "    k=2*n-2\n",
    "    for i in range(0,n):\n",
    "        for j in range(0,k):\n",
    "            print(end=\" \")\n",
    "        k=k-2\n",
    "        for j in range(0,i+1):\n",
    "            print(\"* \",end=\"\")\n",
    "        print(\"\\r\")\n",
    "pattern(5)    "
   ]
  },
  {
   "cell_type": "code",
   "execution_count": 19,
   "metadata": {},
   "outputs": [
    {
     "name": "stdout",
     "output_type": "stream",
     "text": [
      "* * * * * * \r\n",
      "* * * * * \r\n",
      "* * * * \r\n",
      "* * * \r\n",
      "* * \r\n",
      "* \r\n"
     ]
    }
   ],
   "source": [
    "#downward half pattern\n",
    "\n",
    "def pattern(n):\n",
    "    for i in range(n,-1,-1):\n",
    "        for j in range(0,i+1):\n",
    "            print(\"* \",end=\"\")\n",
    "        print(\"\\r\")\n",
    "pattern(5)"
   ]
  },
  {
   "cell_type": "code",
   "execution_count": 31,
   "metadata": {},
   "outputs": [
    {
     "name": "stdout",
     "output_type": "stream",
     "text": [
      "        * \r\n",
      "       * * \r\n",
      "      * * * \r\n",
      "     * * * * \r\n",
      "    * * * * * \r\n",
      "   * * * * * * \r\n",
      "    * * * * * \r\n",
      "     * * * * \r\n",
      "      * * * \r\n",
      "       * * \r\n",
      "        * \r\n"
     ]
    }
   ],
   "source": [
    "#diamond pattern\n",
    "\n",
    "def pattern(n):\n",
    "    k=2* n -2\n",
    "    for i in range(0,n):\n",
    "        for j in range(0,k):\n",
    "            print(end=\" \")\n",
    "        k= k - 1\n",
    "        for j in range(0,i + 1):\n",
    "            print(\"* \",end=\"\")\n",
    "        print(\"\\r\")\n",
    "    k= n - 2\n",
    "    for i in range(n,-1,-1):\n",
    "        for j in range(k,0,-1):\n",
    "            print(end=\" \")\n",
    "        k=k + 1\n",
    "        for j in range(0, i + 1):\n",
    "            print(\"* \",end=\"\")\n",
    "        print(\"\\r\")\n",
    "        \n",
    "pattern(5)"
   ]
  },
  {
   "cell_type": "code",
   "execution_count": 34,
   "metadata": {},
   "outputs": [
    {
     "name": "stdout",
     "output_type": "stream",
     "text": [
      "  *  \n",
      " * * \n",
      "*   *\n",
      " * * \n",
      "  *  \n"
     ]
    }
   ],
   "source": [
    "#diamond star pattern\n",
    "\n",
    "for i in range(5):\n",
    "    for j in range(5):\n",
    "        if i + j == 2 or i-j == 2 or i+j == 6 or j-i==2:\n",
    "            print(\"*\",end=\"\")\n",
    "        else:\n",
    "            print(end=\" \")\n",
    "    print()"
   ]
  },
  {
   "cell_type": "code",
   "execution_count": 37,
   "metadata": {},
   "outputs": [
    {
     "name": "stdout",
     "output_type": "stream",
     "text": [
      "1 \r\n",
      "2 2 \r\n",
      "3 3 3 \r\n",
      "4 4 4 4 \r\n",
      "5 5 5 5 5 \r\n",
      "6 6 6 6 6 6 \r\n",
      "7 7 7 7 7 7 7 \r\n"
     ]
    }
   ],
   "source": [
    "#number pattern program\n",
    "\n",
    "def pattern(n):\n",
    "    x=0\n",
    "    for i in range(0,n):\n",
    "        x+=1\n",
    "        for j in range(0,i + 1):\n",
    "            print(x,end=\" \")\n",
    "        print(\"\\r\")\n",
    "pattern(7)"
   ]
  },
  {
   "cell_type": "code",
   "execution_count": 45,
   "metadata": {},
   "outputs": [
    {
     "name": "stdout",
     "output_type": "stream",
     "text": [
      "None  \n",
      "None  None  \n",
      "None  2  None  \n",
      "None  3  3  None  \n",
      "None  4  4  4  None  \n"
     ]
    }
   ],
   "source": [
    "#pascle's triangle\n",
    "\n",
    "def pattern(n):\n",
    "    for i in range(0,n):\n",
    "        for j in range(0, i + 1):\n",
    "            print(function(i,j),\" \",end=\"\")\n",
    "        print()\n",
    "\n",
    "def function(n, k):\n",
    "    res = 1\n",
    "    if(k> n - k):\n",
    "        k=n- k\n",
    "    for i in range(0,k):\n",
    "        res=res*(n-i)\n",
    "        res=res//(i+1)\n",
    "        return res\n",
    "pattern(5)"
   ]
  },
  {
   "cell_type": "code",
   "execution_count": null,
   "metadata": {},
   "outputs": [],
   "source": []
  }
 ],
 "metadata": {
  "kernelspec": {
   "display_name": "Python 3",
   "language": "python",
   "name": "python3"
  },
  "language_info": {
   "codemirror_mode": {
    "name": "ipython",
    "version": 3
   },
   "file_extension": ".py",
   "mimetype": "text/x-python",
   "name": "python",
   "nbconvert_exporter": "python",
   "pygments_lexer": "ipython3",
   "version": "3.8.5"
  }
 },
 "nbformat": 4,
 "nbformat_minor": 4
}
